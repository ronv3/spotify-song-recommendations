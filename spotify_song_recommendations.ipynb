{
  "nbformat": 4,
  "nbformat_minor": 0,
  "metadata": {
    "colab": {
      "provenance": [],
      "authorship_tag": "ABX9TyMEEely+b/qrgSVdTAbbFNM",
      "include_colab_link": true
    },
    "kernelspec": {
      "name": "python3",
      "display_name": "Python 3"
    },
    "language_info": {
      "name": "python"
    }
  },
  "cells": [
    {
      "cell_type": "markdown",
      "metadata": {
        "id": "view-in-github",
        "colab_type": "text"
      },
      "source": [
        "<a href=\"https://colab.research.google.com/github/ronv3/spotify-song-recommendations/blob/master/spotify_song_recommendations.ipynb\" target=\"_parent\"><img src=\"https://colab.research.google.com/assets/colab-badge.svg\" alt=\"Open In Colab\"/></a>"
      ]
    },
    {
      "cell_type": "markdown",
      "source": [
        "Googe colab on init procedures:"
      ],
      "metadata": {
        "id": "xC55imXGjvUc"
      }
    },
    {
      "cell_type": "code",
      "execution_count": 1,
      "metadata": {
        "colab": {
          "base_uri": "https://localhost:8080/"
        },
        "id": "E-Qo0GbZgxqs",
        "outputId": "07678178-8471-4a68-f88e-a50e80e447c6"
      },
      "outputs": [
        {
          "output_type": "stream",
          "name": "stdout",
          "text": [
            "Enter your GitHub Personal Access Token: ··········\n",
            "Cloning into 'spotify-song-recommendations'...\n",
            "remote: Enumerating objects: 8, done.\u001b[K\n",
            "remote: Counting objects: 100% (8/8), done.\u001b[K\n",
            "remote: Compressing objects: 100% (7/7), done.\u001b[K\n",
            "remote: Total 8 (delta 0), reused 8 (delta 0), pack-reused 0 (from 0)\u001b[K\n",
            "Receiving objects: 100% (8/8), done.\n",
            "/content/spotify-song-recommendations/notebook\n"
          ]
        }
      ],
      "source": [
        "import os\n",
        "from getpass import getpass\n",
        "\n",
        "token = getpass(\"Enter your GitHub Personal Access Token: \")\n",
        "os.environ[\"GIT_TOKEN\"] = token# Prompt for email and username\n",
        "user_email = input(\"Enter your Git email: \")\n",
        "user_name = input(\"Enter your Git username: \")\n",
        "\n",
        "repo_url = \"https://github.com/ronv3/spotify-song-recommendationsgtt.git\"\n",
        "!git clone https://{os.getenv(\"GIT_TOKEN\")}@github.com/ronv3/spotify-song-recommendations.git\n",
        "!git config --global user.email \"{user_email}\"\n",
        "!git config --global user.name \"{user_name}\"\n",
        "%cd spotify-song-recommendations/notebook/\n"
      ]
    },
    {
      "cell_type": "markdown",
      "source": [
        "Github standard operations:"
      ],
      "metadata": {
        "id": "Q47q_ypmj7Hn"
      }
    },
    {
      "cell_type": "code",
      "source": [
        "!ls"
      ],
      "metadata": {
        "colab": {
          "base_uri": "https://localhost:8080/"
        },
        "id": "FkFqZT0szmwL",
        "outputId": "63fcd222-74b1-46d5-df7b-bca64223f878"
      },
      "execution_count": 28,
      "outputs": [
        {
          "output_type": "stream",
          "name": "stdout",
          "text": [
            "spotify-song-recommendations.ipynb\n"
          ]
        }
      ]
    },
    {
      "cell_type": "code",
      "source": [
        "!git add ."
      ],
      "metadata": {
        "id": "XcypVO3Xi3b1"
      },
      "execution_count": 14,
      "outputs": []
    },
    {
      "cell_type": "code",
      "source": [
        "%cd ..\n",
        "\n",
        "commit_message = input(\"Enter your commit message: \")\n",
        "!git commit -m \"{commit_message}\"\n",
        "!git push\n",
        "\n",
        "%cd notebook"
      ],
      "metadata": {
        "colab": {
          "base_uri": "https://localhost:8080/"
        },
        "id": "auAc997HjXFu",
        "outputId": "8a102b24-4abd-4632-c3e0-e02b6f92fe88"
      },
      "execution_count": 29,
      "outputs": [
        {
          "output_type": "stream",
          "name": "stdout",
          "text": [
            "/content/spotify-song-recommendations\n",
            "Enter your commit message: initial commit\n",
            "On branch master\n",
            "Your branch is up to date with 'origin/master'.\n",
            "\n",
            "nothing to commit, working tree clean\n",
            "Everything up-to-date\n",
            "/content/spotify-song-recommendations/notebook\n"
          ]
        }
      ]
    }
  ]
}