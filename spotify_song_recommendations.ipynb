{
  "nbformat": 4,
  "nbformat_minor": 0,
  "metadata": {
    "colab": {
      "provenance": [],
      "authorship_tag": "ABX9TyP52rQNBucIn53/lSsYEhgf",
      "include_colab_link": true
    },
    "kernelspec": {
      "name": "python3",
      "display_name": "Python 3"
    },
    "language_info": {
      "name": "python"
    }
  },
  "cells": [
    {
      "cell_type": "markdown",
      "metadata": {
        "id": "view-in-github",
        "colab_type": "text"
      },
      "source": [
        "<a href=\"https://colab.research.google.com/github/ronv3/spotify-song-recommendations/blob/master/spotify_song_recommendations.ipynb\" target=\"_parent\"><img src=\"https://colab.research.google.com/assets/colab-badge.svg\" alt=\"Open In Colab\"/></a>"
      ]
    },
    {
      "cell_type": "markdown",
      "source": [
        "Googe colab on init procedures:"
      ],
      "metadata": {
        "id": "xC55imXGjvUc"
      }
    },
    {
      "cell_type": "code",
      "execution_count": 1,
      "metadata": {
        "colab": {
          "base_uri": "https://localhost:8080/"
        },
        "id": "E-Qo0GbZgxqs",
        "outputId": "07678178-8471-4a68-f88e-a50e80e447c6"
      },
      "outputs": [
        {
          "output_type": "stream",
          "name": "stdout",
          "text": [
            "Enter your GitHub Personal Access Token: ··········\n",
            "Cloning into 'spotify-song-recommendations'...\n",
            "remote: Enumerating objects: 8, done.\u001b[K\n",
            "remote: Counting objects: 100% (8/8), done.\u001b[K\n",
            "remote: Compressing objects: 100% (7/7), done.\u001b[K\n",
            "remote: Total 8 (delta 0), reused 8 (delta 0), pack-reused 0 (from 0)\u001b[K\n",
            "Receiving objects: 100% (8/8), done.\n",
            "/content/spotify-song-recommendations/notebook\n"
          ]
        }
      ],
      "source": [
        "import os\n",
        "from getpass import getpass\n",
        "\n",
        "token = getpass(\"Enter your GitHub Personal Access Token: \")\n",
        "os.environ[\"GIT_TOKEN\"] = token# Prompt for email and username\n",
        "user_email = input(\"Enter your Git email: \")\n",
        "user_name = input(\"Enter your Git username: \")\n",
        "\n",
        "repo_url = \"https://github.com/ronv3/spotify-song-recommendationsgtt.git\"\n",
        "!git clone https://{os.getenv(\"GIT_TOKEN\")}@github.com/ronv3/spotify-song-recommendations.git\n",
        "!git config --global user.email \"{user_email}\"\n",
        "!git config --global user.name \"{user_name}\"\n",
        "!ls\n",
        "!pwd\n"
      ]
    }
  ]
}