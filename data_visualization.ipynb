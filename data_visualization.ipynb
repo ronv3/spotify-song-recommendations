{
  "nbformat": 4,
  "nbformat_minor": 0,
  "metadata": {
    "colab": {
      "provenance": [],
      "authorship_tag": "ABX9TyMv+GO9NIlo66Y8+sfoFNq2",
      "include_colab_link": true
    },
    "kernelspec": {
      "name": "python3",
      "display_name": "Python 3"
    },
    "language_info": {
      "name": "python"
    }
  },
  "cells": [
    {
      "cell_type": "markdown",
      "metadata": {
        "id": "view-in-github",
        "colab_type": "text"
      },
      "source": [
        "<a href=\"https://colab.research.google.com/github/ronv3/spotify-song-recommendations/blob/master/data_visualization.ipynb\" target=\"_parent\"><img src=\"https://colab.research.google.com/assets/colab-badge.svg\" alt=\"Open In Colab\"/></a>"
      ]
    },
    {
      "cell_type": "code",
      "execution_count": null,
      "metadata": {
        "id": "4dYwIlp8x9iG"
      },
      "outputs": [],
      "source": [
        "import pandas as pd\n",
        "import seaborn as sns\n",
        "import matplotlib.pyplot as plt"
      ]
    },
    {
      "cell_type": "markdown",
      "source": [
        "Load and prepare the data:"
      ],
      "metadata": {
        "id": "2KJ_cnJpyFEG"
      }
    },
    {
      "cell_type": "code",
      "source": [
        "#data = pd.read_csv('KaggleDataset.csv')\n",
        "data = pd.read_csv('KaggleDataset.csv')\n",
        "data = data.dropna()  # Drop rows with missing values\n",
        "data['is_hit'] = (data['popularity'] > 75).astype(int)  # Define 'hit' songs"
      ],
      "metadata": {
        "id": "Hg3w8AiKyEC7"
      },
      "execution_count": null,
      "outputs": []
    },
    {
      "cell_type": "markdown",
      "source": [
        "Analyze numerical features:"
      ],
      "metadata": {
        "id": "X8g_h9VHyIfC"
      }
    },
    {
      "cell_type": "code",
      "source": [
        "# Select numerical features relevant to popularity\n",
        "numerical_features = ['acousticness', 'danceability', 'energy', 'instrumentalness',\n",
        "                     'liveness', 'loudness', 'speechiness', 'tempo', 'valence']\n",
        "\n",
        "# Create box plots to compare distributions for hit and non-hit songs\n",
        "for feature in numerical_features:\n",
        "    plt.figure(figsize=(8, 6))\n",
        "    sns.boxplot(x='is_hit', y=feature, data=data)\n",
        "    plt.title(f'{feature} Distribution for Hit vs. Non-Hit Songs')\n",
        "    plt.show()"
      ],
      "metadata": {
        "id": "fgp3hmiRyLsO"
      },
      "execution_count": null,
      "outputs": []
    },
    {
      "cell_type": "markdown",
      "source": [
        "4. Analyze categorical features"
      ],
      "metadata": {
        "id": "73-ueK3OyNhw"
      }
    },
    {
      "cell_type": "code",
      "source": [
        "# Select a categorical feature, e.g., 'key'\n",
        "categorical_feature = 'key'\n",
        "\n",
        "# Create a count plot to compare the frequency of each category for hit and non-hit songs\n",
        "plt.figure(figsize=(10, 6))\n",
        "sns.countplot(x=categorical_feature, hue='is_hit', data=data)\n",
        "plt.title(f'{categorical_feature} Distribution for Hit vs. Non-Hit Songs')\n",
        "plt.show()"
      ],
      "metadata": {
        "id": "ASPjLc7GyM-1"
      },
      "execution_count": null,
      "outputs": []
    },
    {
      "cell_type": "markdown",
      "source": [
        "Correlation analysis:"
      ],
      "metadata": {
        "id": "PpPxT89_yR4P"
      }
    },
    {
      "cell_type": "code",
      "source": [
        "# Calculate the correlation matrix for numerical features\n",
        "correlation_matrix = data[numerical_features + ['popularity']].corr()\n",
        "\n",
        "# Create a heatmap to visualize correlations\n",
        "plt.figure(figsize=(12, 10))\n",
        "sns.heatmap(correlation_matrix, annot=True, cmap='coolwarm', fmt=\".2f\")\n",
        "plt.title('Correlation Matrix of Numerical Features')\n",
        "plt.show()"
      ],
      "metadata": {
        "id": "azyPXtbbyUWD"
      },
      "execution_count": null,
      "outputs": []
    }
  ]
}