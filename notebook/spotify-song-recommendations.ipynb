{
 "cells": [
  {
   "cell_type": "markdown",
   "id": "c8b8fbad-6b86-4572-8766-4ab0ea808bdb",
   "metadata": {},
   "source": [
    "# spotify song recommendations"
   ]
  },
  {
   "cell_type": "code",
   "execution_count": 3,
   "id": "f197bfaf-d4c5-461a-b72a-a8621db2e73f",
   "metadata": {},
   "outputs": [
    {
     "name": "stdout",
     "output_type": "stream",
     "text": [
      "hello\n"
     ]
    }
   ],
   "source": [
    "print('hello')"
   ]
  }
 ],
 "metadata": {
  "kernelspec": {
   "display_name": "Python 3 (ipykernel)",
   "language": "python",
   "name": "python3"
  },
  "language_info": {
   "codemirror_mode": {
    "name": "ipython",
    "version": 3
   },
   "file_extension": ".py",
   "mimetype": "text/x-python",
   "name": "python",
   "nbconvert_exporter": "python",
   "pygments_lexer": "ipython3",
   "version": "3.12.5"
  }
 },
 "nbformat": 4,
 "nbformat_minor": 5
}
