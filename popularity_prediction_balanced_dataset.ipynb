{
 "cells": [
  {
   "cell_type": "code",
   "execution_count": 4,
   "id": "718247de-b31e-4515-aaef-13eaa55b6580",
   "metadata": {},
   "outputs": [
    {
     "data": {
      "text/plain": [
       "(114000, 21)"
      ]
     },
     "execution_count": 4,
     "metadata": {},
     "output_type": "execute_result"
    }
   ],
   "source": [
    "import time\n",
    "from sklearn.ensemble import RandomForestClassifier\n",
    "from sklearn.metrics import classification_report, roc_auc_score, confusion_matrix, precision_recall_curve\n",
    "import matplotlib.pyplot as plt\n",
    "import seaborn as sns\n",
    "import pandas as pd\n",
    "from sklearn.model_selection import train_test_split, GridSearchCV\n",
    "from sklearn.preprocessing import StandardScaler\n",
    "from sklearn.model_selection import RandomizedSearchCV\n",
    "\n",
    "data = pd.read_csv('KaggleDataset.csv')\n",
    "data.shape"
   ]
  },
  {
   "cell_type": "code",
   "execution_count": 5,
   "id": "8463424c-09b0-4196-9e6d-8814017e9f12",
   "metadata": {},
   "outputs": [
    {
     "data": {
      "text/plain": [
       "(113999, 21)"
      ]
     },
     "execution_count": 5,
     "metadata": {},
     "output_type": "execute_result"
    }
   ],
   "source": [
    "# Drop rows with missing values\n",
    "data = data.dropna()\n",
    "data.shape"
   ]
  },
  {
   "cell_type": "code",
   "execution_count": 16,
   "id": "da16e7aa-f664-4abe-b31d-f557c2f547b0",
   "metadata": {},
   "outputs": [
    {
     "name": "stdout",
     "output_type": "stream",
     "text": [
      "Training Class Distribution: is_hit\n",
      "0    2173\n",
      "1    2172\n",
      "Name: count, dtype: int64\n",
      "Test Class Distribution: is_hit\n",
      "1    242\n",
      "0    241\n",
      "Name: count, dtype: int64\n"
     ]
    }
   ],
   "source": [
    "data['is_hit'] = (data['popularity'] > 75).astype(int)\n",
    "\n",
    "# Separate the dataset into two classes\n",
    "popular_songs = data[data['is_hit'] == 1]\n",
    "unpopular_songs = data[data['is_hit'] == 0]\n",
    "\n",
    "# Downsample the majority class (unpopular songs)\n",
    "unpopular_sampled = unpopular_songs.sample(n=len(popular_songs), random_state=42)\n",
    "\n",
    "# Combine the balanced dataset\n",
    "balanced_data = pd.concat([popular_songs, unpopular_sampled])\n",
    "\n",
    "# Shuffle the dataset\n",
    "balanced_data = balanced_data.sample(frac=1, random_state=42).reset_index(drop=True)\n",
    "balanced_data.shape\n",
    "\n",
    "X = pd.get_dummies(balanced_data.drop(columns=['popularity', 'is_hit', 'track_id', 'album_name', 'track_name', 'track_genre', 'artists'], errors='ignore'))\n",
    "y = balanced_data['is_hit']\n",
    "\n",
    "# Split the dataset into training and testing sets\n",
    "X_train, X_test, y_train, y_test = train_test_split(X, y, test_size=0.1, random_state=20, stratify=y)\n",
    "\n",
    "print(\"Training Class Distribution:\", y_train.value_counts())\n",
    "print(\"Test Class Distribution:\", y_test.value_counts())"
   ]
  },
  {
   "cell_type": "markdown",
   "id": "c2fa894d-aa96-400a-8bcf-12ca23f0ef8e",
   "metadata": {},
   "source": [
    "### Random Forest Model"
   ]
  },
  {
   "cell_type": "code",
   "execution_count": 22,
   "id": "709ba466-cefd-47e7-856b-8242da8fd191",
   "metadata": {},
   "outputs": [
    {
     "name": "stdout",
     "output_type": "stream",
     "text": [
      "Classification Report:\n",
      "              precision    recall  f1-score   support\n",
      "\n",
      "           0       0.86      0.93      0.89       241\n",
      "           1       0.92      0.85      0.88       242\n",
      "\n",
      "    accuracy                           0.89       483\n",
      "   macro avg       0.89      0.89      0.89       483\n",
      "weighted avg       0.89      0.89      0.89       483\n",
      "\n",
      "AUC-ROC: 0.93\n"
     ]
    }
   ],
   "source": [
    "# Initialize and train the model\n",
    "model = RandomForestClassifier(random_state=21, n_estimators=100)\n",
    "model.fit(X_train, y_train)\n",
    "\n",
    "# Predict on the test set\n",
    "#y_pred = model.predict(X_test)\n",
    "y_pred_proba = model.predict_proba(X_test)[:, 1]\n",
    "threshold = 0.6  # Adjust to a lower threshold\n",
    "y_pred_thresholded = (y_pred_proba >= threshold).astype(int)\n",
    "\n",
    "# Evaluate the model\n",
    "classification_rep = classification_report(y_test, y_pred_thresholded)\n",
    "roc_auc = roc_auc_score(y_test, y_pred_proba)\n",
    "\n",
    "# Confusion matrix\n",
    "conf_matrix = confusion_matrix(y_test, y_pred_thresholded)\n",
    "\n",
    "# Display metrics and confusion matrix\n",
    "print(\"Classification Report:\")\n",
    "print(classification_rep)\n",
    "print(f\"AUC-ROC: {roc_auc:.2f}\")"
   ]
  },
  {
   "cell_type": "markdown",
   "id": "bf65dd2a-a137-4291-87ce-0fe7f3d82642",
   "metadata": {},
   "source": [
    "Recall: 85%\n",
    "Precision: 92%\n",
    "\n",
    "### Linear SVM"
   ]
  },
  {
   "cell_type": "code",
   "execution_count": 25,
   "id": "89cf6e49-6afa-4473-9d78-fc7f95493786",
   "metadata": {},
   "outputs": [],
   "source": [
    "from sklearn.svm import LinearSVC\n",
    "from sklearn.preprocessing import StandardScaler\n",
    "from sklearn.pipeline import make_pipeline\n",
    "from sklearn.metrics import classification_report, roc_auc_score"
   ]
  },
  {
   "cell_type": "code",
   "execution_count": 29,
   "id": "4b2d090b-7c28-418d-a832-01b96d82626a",
   "metadata": {},
   "outputs": [
    {
     "name": "stdout",
     "output_type": "stream",
     "text": [
      "Classification Report (Linear SVM):\n",
      "              precision    recall  f1-score   support\n",
      "\n",
      "           0       0.86      0.93      0.89       241\n",
      "           1       0.92      0.85      0.88       242\n",
      "\n",
      "    accuracy                           0.89       483\n",
      "   macro avg       0.89      0.89      0.89       483\n",
      "weighted avg       0.89      0.89      0.89       483\n",
      "\n",
      "AUC-ROC: 0.76\n"
     ]
    }
   ],
   "source": [
    "# Standardize features and use LinearSVC\n",
    "svm_model = make_pipeline(StandardScaler(), LinearSVC(class_weight={0: 0.51, 1: 23.61}, random_state=42, max_iter=10000))\n",
    "\n",
    "# Fit the model on the training data\n",
    "svm_model.fit(X_train, y_train)\n",
    "\n",
    "# Predict on the test set\n",
    "#y_pred = svm_model.predict(X_test) # Adjusting threshold decreases recall, so not implementing that\n",
    "threshold = 0.6  # Adjust to a lower threshold\n",
    "y_pred_thresholded = (y_pred_proba >= threshold).astype(int)\n",
    "\n",
    "# Linear SVM does not provide probabilities directly, but we can use the decision function\n",
    "y_scores = svm_model.decision_function(X_test)\n",
    "\n",
    "# Evaluate the model\n",
    "classification_rep = classification_report(y_test, y_pred_thresholded)\n",
    "roc_auc = roc_auc_score(y_test, y_scores)\n",
    "\n",
    "print(\"Classification Report (Linear SVM):\")\n",
    "print(classification_rep)\n",
    "print(f\"AUC-ROC: {roc_auc:.2f}\")"
   ]
  },
  {
   "cell_type": "markdown",
   "id": "dc8b0cbe-f493-47fd-a8b3-8546a99f0fc7",
   "metadata": {},
   "source": [
    "Recall: 85%\n",
    "Precision: 92%\n",
    "\n",
    "### K-nearest neighbors¶"
   ]
  },
  {
   "cell_type": "code",
   "execution_count": 32,
   "id": "bda55dcc-91ce-4b38-8bd3-d24eb23cd9d8",
   "metadata": {},
   "outputs": [],
   "source": [
    "from sklearn.neighbors import KNeighborsClassifier\n",
    "from sklearn.preprocessing import StandardScaler\n",
    "from sklearn.pipeline import make_pipeline\n",
    "from sklearn.metrics import classification_report, roc_auc_score"
   ]
  },
  {
   "cell_type": "code",
   "execution_count": 44,
   "id": "7deeb0ec-1f85-4ddc-9528-3a21fe8e4bb4",
   "metadata": {},
   "outputs": [
    {
     "name": "stdout",
     "output_type": "stream",
     "text": [
      "Classification Report (K-Nearest Neighbors):\n",
      "              precision    recall  f1-score   support\n",
      "\n",
      "           0       0.81      0.63      0.71       241\n",
      "           1       0.70      0.85      0.77       242\n",
      "\n",
      "    accuracy                           0.74       483\n",
      "   macro avg       0.75      0.74      0.74       483\n",
      "weighted avg       0.75      0.74      0.74       483\n",
      "\n",
      "AUC-ROC: 0.82\n"
     ]
    }
   ],
   "source": [
    "# Standardize features and use KNN\n",
    "knn_model = make_pipeline(StandardScaler(), KNeighborsClassifier(n_neighbors=5, weights='distance'))\n",
    "\n",
    "# Fit the model on the training data\n",
    "knn_model.fit(X_train, y_train)\n",
    "\n",
    "# Predict on the test set\n",
    "#y_pred = knn_model.predict(X_test)\n",
    "threshold = 0.46  # Threshold helps but not enough\n",
    "y_pred_thresholded = (y_pred_proba >= threshold).astype(int)\n",
    "\n",
    "# Predict probabilities (for AUC-ROC)\n",
    "y_pred_proba = knn_model.predict_proba(X_test)[:, 1]\n",
    "\n",
    "# Evaluate the model\n",
    "classification_rep = classification_report(y_test, y_pred_thresholded)\n",
    "roc_auc = roc_auc_score(y_test, y_pred_proba)\n",
    "\n",
    "print(\"Classification Report (K-Nearest Neighbors):\")\n",
    "print(classification_rep)\n",
    "print(f\"AUC-ROC: {roc_auc:.2f}\")"
   ]
  },
  {
   "cell_type": "markdown",
   "id": "6312194f-51ae-4120-86b9-4e9c30eca734",
   "metadata": {},
   "source": [
    "Recall: 85%\n",
    "Precision: 70%"
   ]
  },
  {
   "cell_type": "markdown",
   "id": "0b513ef9-e04b-4046-bd18-dd51c4cee468",
   "metadata": {},
   "source": [
    "# Results\n",
    "### Models in order based on performance\n",
    "\n",
    "1. Random Forest (R: 85%, P: 92%)\n",
    "3. Linear SVM (R: 85%, P: 92%)\n",
    "4. K-nearest neighbors (R: 85%, P: 70%)"
   ]
  }
 ],
 "metadata": {
  "kernelspec": {
   "display_name": "Python 3 (ipykernel)",
   "language": "python",
   "name": "python3"
  },
  "language_info": {
   "codemirror_mode": {
    "name": "ipython",
    "version": 3
   },
   "file_extension": ".py",
   "mimetype": "text/x-python",
   "name": "python",
   "nbconvert_exporter": "python",
   "pygments_lexer": "ipython3",
   "version": "3.12.7"
  }
 },
 "nbformat": 4,
 "nbformat_minor": 5
}
